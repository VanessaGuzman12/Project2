{
 "cells": [
  {
   "cell_type": "code",
   "execution_count": 30,
   "id": "e6d3b13e",
   "metadata": {},
   "outputs": [],
   "source": [
    "import pandas as pd\n",
    "import numpy as np\n",
    "import os\n",
    "from sqlalchemy import create_engine, inspect"
   ]
  },
  {
   "cell_type": "code",
   "execution_count": 5,
   "id": "6177634e",
   "metadata": {},
   "outputs": [],
   "source": [
    "##################################Set up files location and names\n",
    "path='./Resources'\n",
    "\n",
    "broad_category_db='capgpo.csv'\n",
    "locality_db='catemlde20.csv'\n",
    "mortality_cause_db='catminde.csv'\n",
    "main_db='defun20.csv'\n",
    "mex_broad_category_db = 'gpolimex.csv'\n",
    "mex_mortality_cause_db = 'lista1.csv'\n",
    "category_detail_db = 'listamex.csv'\n",
    "relationship_db = 'parentesco.csv'\n",
    "\n",
    "\n"
   ]
  },
  {
   "cell_type": "code",
   "execution_count": 6,
   "id": "cf1bfd97",
   "metadata": {},
   "outputs": [],
   "source": [
    "os.chdir(path)"
   ]
  },
  {
   "cell_type": "code",
   "execution_count": 7,
   "id": "c0f5f495",
   "metadata": {},
   "outputs": [
    {
     "data": {
      "text/html": [
       "<div>\n",
       "<style scoped>\n",
       "    .dataframe tbody tr th:only-of-type {\n",
       "        vertical-align: middle;\n",
       "    }\n",
       "\n",
       "    .dataframe tbody tr th {\n",
       "        vertical-align: top;\n",
       "    }\n",
       "\n",
       "    .dataframe thead th {\n",
       "        text-align: right;\n",
       "    }\n",
       "</style>\n",
       "<table border=\"1\" class=\"dataframe\">\n",
       "  <thead>\n",
       "    <tr style=\"text-align: right;\">\n",
       "      <th></th>\n",
       "      <th>CONSE</th>\n",
       "      <th>CAP</th>\n",
       "      <th>GPO</th>\n",
       "      <th>DESCRIP</th>\n",
       "    </tr>\n",
       "  </thead>\n",
       "  <tbody>\n",
       "    <tr>\n",
       "      <th>0</th>\n",
       "      <td>1</td>\n",
       "      <td>1</td>\n",
       "      <td>NaN</td>\n",
       "      <td>Ciertas enfermedades infecciosas y parasitarias</td>\n",
       "    </tr>\n",
       "    <tr>\n",
       "      <th>1</th>\n",
       "      <td>2</td>\n",
       "      <td>1</td>\n",
       "      <td>1.0</td>\n",
       "      <td>Enfermedades infecciosas intestinales (A00-A09)</td>\n",
       "    </tr>\n",
       "    <tr>\n",
       "      <th>2</th>\n",
       "      <td>3</td>\n",
       "      <td>1</td>\n",
       "      <td>2.0</td>\n",
       "      <td>Tuberculosis  (A15-A19)</td>\n",
       "    </tr>\n",
       "    <tr>\n",
       "      <th>3</th>\n",
       "      <td>4</td>\n",
       "      <td>1</td>\n",
       "      <td>3.0</td>\n",
       "      <td>Ciertas zoonosis bacterianas (A20-A28)</td>\n",
       "    </tr>\n",
       "    <tr>\n",
       "      <th>4</th>\n",
       "      <td>5</td>\n",
       "      <td>1</td>\n",
       "      <td>4.0</td>\n",
       "      <td>Otras enfermedades bacterianas (A30-A49)</td>\n",
       "    </tr>\n",
       "  </tbody>\n",
       "</table>\n",
       "</div>"
      ],
      "text/plain": [
       "   CONSE  CAP  GPO                                          DESCRIP\n",
       "0      1    1  NaN  Ciertas enfermedades infecciosas y parasitarias\n",
       "1      2    1  1.0  Enfermedades infecciosas intestinales (A00-A09)\n",
       "2      3    1  2.0                          Tuberculosis  (A15-A19)\n",
       "3      4    1  3.0           Ciertas zoonosis bacterianas (A20-A28)\n",
       "4      5    1  4.0         Otras enfermedades bacterianas (A30-A49)"
      ]
     },
     "execution_count": 7,
     "metadata": {},
     "output_type": "execute_result"
    }
   ],
   "source": [
    "#############################  data handling ################################################\n",
    "broad_category = pd.read_csv(broad_category_db)\n",
    "\n",
    "broad_category.drop(broad_category.columns[[0]], axis=1, inplace=True)\n",
    "broad_category.head()\n"
   ]
  },
  {
   "cell_type": "code",
   "execution_count": 8,
   "id": "b5ece657",
   "metadata": {},
   "outputs": [
    {
     "data": {
      "text/html": [
       "<div>\n",
       "<style scoped>\n",
       "    .dataframe tbody tr th:only-of-type {\n",
       "        vertical-align: middle;\n",
       "    }\n",
       "\n",
       "    .dataframe tbody tr th {\n",
       "        vertical-align: top;\n",
       "    }\n",
       "\n",
       "    .dataframe thead th {\n",
       "        text-align: right;\n",
       "    }\n",
       "</style>\n",
       "<table border=\"1\" class=\"dataframe\">\n",
       "  <thead>\n",
       "    <tr style=\"text-align: right;\">\n",
       "      <th></th>\n",
       "      <th>CVE_ENT</th>\n",
       "      <th>CVE_MUN</th>\n",
       "      <th>CVE_LOC</th>\n",
       "      <th>NOM_LOC</th>\n",
       "    </tr>\n",
       "  </thead>\n",
       "  <tbody>\n",
       "    <tr>\n",
       "      <th>0</th>\n",
       "      <td>1</td>\n",
       "      <td>0</td>\n",
       "      <td>0</td>\n",
       "      <td>Aguascalientes</td>\n",
       "    </tr>\n",
       "    <tr>\n",
       "      <th>1</th>\n",
       "      <td>1</td>\n",
       "      <td>1</td>\n",
       "      <td>0</td>\n",
       "      <td>Aguascalientes</td>\n",
       "    </tr>\n",
       "    <tr>\n",
       "      <th>2</th>\n",
       "      <td>1</td>\n",
       "      <td>1</td>\n",
       "      <td>1</td>\n",
       "      <td>Aguascalientes</td>\n",
       "    </tr>\n",
       "    <tr>\n",
       "      <th>3</th>\n",
       "      <td>1</td>\n",
       "      <td>1</td>\n",
       "      <td>106</td>\n",
       "      <td>Arellano</td>\n",
       "    </tr>\n",
       "    <tr>\n",
       "      <th>4</th>\n",
       "      <td>1</td>\n",
       "      <td>1</td>\n",
       "      <td>120</td>\n",
       "      <td>Buenavista de Peñuelas</td>\n",
       "    </tr>\n",
       "  </tbody>\n",
       "</table>\n",
       "</div>"
      ],
      "text/plain": [
       "   CVE_ENT  CVE_MUN  CVE_LOC                 NOM_LOC\n",
       "0        1        0        0          Aguascalientes\n",
       "1        1        1        0          Aguascalientes\n",
       "2        1        1        1          Aguascalientes\n",
       "3        1        1      106                Arellano\n",
       "4        1        1      120  Buenavista de Peñuelas"
      ]
     },
     "execution_count": 8,
     "metadata": {},
     "output_type": "execute_result"
    }
   ],
   "source": [
    "locality = pd.read_csv(locality_db)\n",
    "\n",
    "locality.drop(locality.columns[[0]], axis=1, inplace=True)\n",
    "locality.head()"
   ]
  },
  {
   "cell_type": "code",
   "execution_count": 9,
   "id": "a74fe293",
   "metadata": {},
   "outputs": [
    {
     "data": {
      "text/html": [
       "<div>\n",
       "<style scoped>\n",
       "    .dataframe tbody tr th:only-of-type {\n",
       "        vertical-align: middle;\n",
       "    }\n",
       "\n",
       "    .dataframe tbody tr th {\n",
       "        vertical-align: top;\n",
       "    }\n",
       "\n",
       "    .dataframe thead th {\n",
       "        text-align: right;\n",
       "    }\n",
       "</style>\n",
       "<table border=\"1\" class=\"dataframe\">\n",
       "  <thead>\n",
       "    <tr style=\"text-align: right;\">\n",
       "      <th></th>\n",
       "      <th>CVE</th>\n",
       "      <th>DESCRIP</th>\n",
       "    </tr>\n",
       "  </thead>\n",
       "  <tbody>\n",
       "    <tr>\n",
       "      <th>0</th>\n",
       "      <td>A010</td>\n",
       "      <td>Fiebre tifoidea</td>\n",
       "    </tr>\n",
       "    <tr>\n",
       "      <th>1</th>\n",
       "      <td>A012</td>\n",
       "      <td>Fiebre paratifoidea B</td>\n",
       "    </tr>\n",
       "    <tr>\n",
       "      <th>2</th>\n",
       "      <td>A020</td>\n",
       "      <td>Enteritis debida a Salmonella</td>\n",
       "    </tr>\n",
       "    <tr>\n",
       "      <th>3</th>\n",
       "      <td>A021</td>\n",
       "      <td>Sepsis debida a Salmonella</td>\n",
       "    </tr>\n",
       "    <tr>\n",
       "      <th>4</th>\n",
       "      <td>A029</td>\n",
       "      <td>Infección debida a Salmonella, no especificada</td>\n",
       "    </tr>\n",
       "  </tbody>\n",
       "</table>\n",
       "</div>"
      ],
      "text/plain": [
       "    CVE                                         DESCRIP\n",
       "0  A010                                 Fiebre tifoidea\n",
       "1  A012                           Fiebre paratifoidea B\n",
       "2  A020                   Enteritis debida a Salmonella\n",
       "3  A021                      Sepsis debida a Salmonella\n",
       "4  A029  Infección debida a Salmonella, no especificada"
      ]
     },
     "execution_count": 9,
     "metadata": {},
     "output_type": "execute_result"
    }
   ],
   "source": [
    "mortality_cause = pd.read_csv(mortality_cause_db)\n",
    "mortality_cause.drop(mortality_cause.columns[[0]], axis=1, inplace=True)\n",
    "mortality_cause.head()"
   ]
  },
  {
   "cell_type": "code",
   "execution_count": 10,
   "id": "bda80c0e",
   "metadata": {},
   "outputs": [
    {
     "data": {
      "text/html": [
       "<div>\n",
       "<style scoped>\n",
       "    .dataframe tbody tr th:only-of-type {\n",
       "        vertical-align: middle;\n",
       "    }\n",
       "\n",
       "    .dataframe tbody tr th {\n",
       "        vertical-align: top;\n",
       "    }\n",
       "\n",
       "    .dataframe thead th {\n",
       "        text-align: right;\n",
       "    }\n",
       "</style>\n",
       "<table border=\"1\" class=\"dataframe\">\n",
       "  <thead>\n",
       "    <tr style=\"text-align: right;\">\n",
       "      <th></th>\n",
       "      <th>ENT_REGIS</th>\n",
       "      <th>MUN_REGIS</th>\n",
       "      <th>ENT_RESID</th>\n",
       "      <th>MUN_RESID</th>\n",
       "      <th>TLOC_RESID</th>\n",
       "      <th>LOC_RESID</th>\n",
       "      <th>ENT_OCURR</th>\n",
       "      <th>MUN_OCURR</th>\n",
       "      <th>TLOC_OCURR</th>\n",
       "      <th>LOC_OCURR</th>\n",
       "      <th>...</th>\n",
       "      <th>ANIO_CERT</th>\n",
       "      <th>MATERNAS</th>\n",
       "      <th>LENGUA</th>\n",
       "      <th>COND_ACT</th>\n",
       "      <th>PAR_AGRE</th>\n",
       "      <th>ENT_OCULES</th>\n",
       "      <th>MUN_OCULES</th>\n",
       "      <th>LOC_OCULES</th>\n",
       "      <th>RAZON_M</th>\n",
       "      <th>DIS_RE_OAX</th>\n",
       "    </tr>\n",
       "  </thead>\n",
       "  <tbody>\n",
       "    <tr>\n",
       "      <th>0</th>\n",
       "      <td>1</td>\n",
       "      <td>1</td>\n",
       "      <td>1</td>\n",
       "      <td>1</td>\n",
       "      <td>15</td>\n",
       "      <td>1</td>\n",
       "      <td>1</td>\n",
       "      <td>1</td>\n",
       "      <td>15</td>\n",
       "      <td>1</td>\n",
       "      <td>...</td>\n",
       "      <td>2020</td>\n",
       "      <td>NaN</td>\n",
       "      <td>2</td>\n",
       "      <td>9</td>\n",
       "      <td>88</td>\n",
       "      <td>88</td>\n",
       "      <td>888</td>\n",
       "      <td>8888</td>\n",
       "      <td>NaN</td>\n",
       "      <td>999</td>\n",
       "    </tr>\n",
       "    <tr>\n",
       "      <th>1</th>\n",
       "      <td>1</td>\n",
       "      <td>1</td>\n",
       "      <td>1</td>\n",
       "      <td>1</td>\n",
       "      <td>15</td>\n",
       "      <td>1</td>\n",
       "      <td>1</td>\n",
       "      <td>1</td>\n",
       "      <td>15</td>\n",
       "      <td>1</td>\n",
       "      <td>...</td>\n",
       "      <td>2020</td>\n",
       "      <td>NaN</td>\n",
       "      <td>9</td>\n",
       "      <td>9</td>\n",
       "      <td>88</td>\n",
       "      <td>88</td>\n",
       "      <td>888</td>\n",
       "      <td>8888</td>\n",
       "      <td>NaN</td>\n",
       "      <td>999</td>\n",
       "    </tr>\n",
       "    <tr>\n",
       "      <th>2</th>\n",
       "      <td>1</td>\n",
       "      <td>1</td>\n",
       "      <td>1</td>\n",
       "      <td>1</td>\n",
       "      <td>15</td>\n",
       "      <td>1</td>\n",
       "      <td>1</td>\n",
       "      <td>1</td>\n",
       "      <td>15</td>\n",
       "      <td>1</td>\n",
       "      <td>...</td>\n",
       "      <td>2020</td>\n",
       "      <td>NaN</td>\n",
       "      <td>2</td>\n",
       "      <td>2</td>\n",
       "      <td>88</td>\n",
       "      <td>88</td>\n",
       "      <td>888</td>\n",
       "      <td>8888</td>\n",
       "      <td>NaN</td>\n",
       "      <td>999</td>\n",
       "    </tr>\n",
       "    <tr>\n",
       "      <th>3</th>\n",
       "      <td>1</td>\n",
       "      <td>1</td>\n",
       "      <td>1</td>\n",
       "      <td>1</td>\n",
       "      <td>15</td>\n",
       "      <td>1</td>\n",
       "      <td>1</td>\n",
       "      <td>1</td>\n",
       "      <td>15</td>\n",
       "      <td>1</td>\n",
       "      <td>...</td>\n",
       "      <td>2020</td>\n",
       "      <td>NaN</td>\n",
       "      <td>9</td>\n",
       "      <td>9</td>\n",
       "      <td>88</td>\n",
       "      <td>88</td>\n",
       "      <td>888</td>\n",
       "      <td>8888</td>\n",
       "      <td>NaN</td>\n",
       "      <td>999</td>\n",
       "    </tr>\n",
       "    <tr>\n",
       "      <th>4</th>\n",
       "      <td>1</td>\n",
       "      <td>6</td>\n",
       "      <td>1</td>\n",
       "      <td>9</td>\n",
       "      <td>4</td>\n",
       "      <td>1</td>\n",
       "      <td>1</td>\n",
       "      <td>9</td>\n",
       "      <td>4</td>\n",
       "      <td>1</td>\n",
       "      <td>...</td>\n",
       "      <td>2020</td>\n",
       "      <td>NaN</td>\n",
       "      <td>2</td>\n",
       "      <td>1</td>\n",
       "      <td>88</td>\n",
       "      <td>88</td>\n",
       "      <td>888</td>\n",
       "      <td>8888</td>\n",
       "      <td>NaN</td>\n",
       "      <td>999</td>\n",
       "    </tr>\n",
       "  </tbody>\n",
       "</table>\n",
       "<p>5 rows × 59 columns</p>\n",
       "</div>"
      ],
      "text/plain": [
       "   ENT_REGIS  MUN_REGIS  ENT_RESID  MUN_RESID  TLOC_RESID  LOC_RESID  \\\n",
       "0          1          1          1          1          15          1   \n",
       "1          1          1          1          1          15          1   \n",
       "2          1          1          1          1          15          1   \n",
       "3          1          1          1          1          15          1   \n",
       "4          1          6          1          9           4          1   \n",
       "\n",
       "   ENT_OCURR  MUN_OCURR  TLOC_OCURR  LOC_OCURR  ... ANIO_CERT MATERNAS  \\\n",
       "0          1          1          15          1  ...      2020      NaN   \n",
       "1          1          1          15          1  ...      2020      NaN   \n",
       "2          1          1          15          1  ...      2020      NaN   \n",
       "3          1          1          15          1  ...      2020      NaN   \n",
       "4          1          9           4          1  ...      2020      NaN   \n",
       "\n",
       "   LENGUA  COND_ACT  PAR_AGRE  ENT_OCULES  MUN_OCULES  LOC_OCULES  RAZON_M  \\\n",
       "0       2         9        88          88         888        8888      NaN   \n",
       "1       9         9        88          88         888        8888      NaN   \n",
       "2       2         2        88          88         888        8888      NaN   \n",
       "3       9         9        88          88         888        8888      NaN   \n",
       "4       2         1        88          88         888        8888      NaN   \n",
       "\n",
       "   DIS_RE_OAX  \n",
       "0         999  \n",
       "1         999  \n",
       "2         999  \n",
       "3         999  \n",
       "4         999  \n",
       "\n",
       "[5 rows x 59 columns]"
      ]
     },
     "execution_count": 10,
     "metadata": {},
     "output_type": "execute_result"
    }
   ],
   "source": [
    "main = pd.read_csv(main_db)\n",
    "\n",
    "main.drop(main.columns[[0]], axis=1, inplace=True)\n",
    "main.head()"
   ]
  },
  {
   "cell_type": "code",
   "execution_count": 11,
   "id": "1499078f",
   "metadata": {},
   "outputs": [
    {
     "data": {
      "text/html": [
       "<div>\n",
       "<style scoped>\n",
       "    .dataframe tbody tr th:only-of-type {\n",
       "        vertical-align: middle;\n",
       "    }\n",
       "\n",
       "    .dataframe tbody tr th {\n",
       "        vertical-align: top;\n",
       "    }\n",
       "\n",
       "    .dataframe thead th {\n",
       "        text-align: right;\n",
       "    }\n",
       "</style>\n",
       "<table border=\"1\" class=\"dataframe\">\n",
       "  <thead>\n",
       "    <tr style=\"text-align: right;\">\n",
       "      <th></th>\n",
       "      <th>VALOR</th>\n",
       "      <th>DESCRIPCIO</th>\n",
       "    </tr>\n",
       "  </thead>\n",
       "  <tbody>\n",
       "    <tr>\n",
       "      <th>0</th>\n",
       "      <td>01</td>\n",
       "      <td>ENFERMEDADES INFECCIOSAS INTESTINALES</td>\n",
       "    </tr>\n",
       "    <tr>\n",
       "      <th>1</th>\n",
       "      <td>02</td>\n",
       "      <td>TUBERCULOSIS</td>\n",
       "    </tr>\n",
       "    <tr>\n",
       "      <th>2</th>\n",
       "      <td>03</td>\n",
       "      <td>OTRAS ENFERMEDADES BACTERIANAS</td>\n",
       "    </tr>\n",
       "    <tr>\n",
       "      <th>3</th>\n",
       "      <td>04</td>\n",
       "      <td>INFECCIONES CON MODO DE TRANSMISION PREDOMINAN...</td>\n",
       "    </tr>\n",
       "    <tr>\n",
       "      <th>4</th>\n",
       "      <td>05</td>\n",
       "      <td>OTRAS ENFERMEDADES INFECCIOSAS Y PARASITARIAS ...</td>\n",
       "    </tr>\n",
       "  </tbody>\n",
       "</table>\n",
       "</div>"
      ],
      "text/plain": [
       "  VALOR                                         DESCRIPCIO\n",
       "0    01              ENFERMEDADES INFECCIOSAS INTESTINALES\n",
       "1    02                                       TUBERCULOSIS\n",
       "2    03                     OTRAS ENFERMEDADES BACTERIANAS\n",
       "3    04  INFECCIONES CON MODO DE TRANSMISION PREDOMINAN...\n",
       "4    05  OTRAS ENFERMEDADES INFECCIOSAS Y PARASITARIAS ..."
      ]
     },
     "execution_count": 11,
     "metadata": {},
     "output_type": "execute_result"
    }
   ],
   "source": [
    "mex_broad_category = pd.read_csv(mex_broad_category_db)\n",
    "\n",
    "mex_broad_category.drop(mex_broad_category.columns[[0]], axis=1, inplace=True)\n",
    "mex_broad_category.head()"
   ]
  },
  {
   "cell_type": "code",
   "execution_count": 12,
   "id": "bae34014",
   "metadata": {},
   "outputs": [
    {
     "data": {
      "text/html": [
       "<div>\n",
       "<style scoped>\n",
       "    .dataframe tbody tr th:only-of-type {\n",
       "        vertical-align: middle;\n",
       "    }\n",
       "\n",
       "    .dataframe tbody tr th {\n",
       "        vertical-align: top;\n",
       "    }\n",
       "\n",
       "    .dataframe thead th {\n",
       "        text-align: right;\n",
       "    }\n",
       "</style>\n",
       "<table border=\"1\" class=\"dataframe\">\n",
       "  <thead>\n",
       "    <tr style=\"text-align: right;\">\n",
       "      <th></th>\n",
       "      <th>CVE</th>\n",
       "      <th>DESCRIP</th>\n",
       "    </tr>\n",
       "  </thead>\n",
       "  <tbody>\n",
       "    <tr>\n",
       "      <th>0</th>\n",
       "      <td>1</td>\n",
       "      <td>001 Ciertas  enfermedades infecciosas  y paras...</td>\n",
       "    </tr>\n",
       "    <tr>\n",
       "      <th>1</th>\n",
       "      <td>2</td>\n",
       "      <td>002 Cólera</td>\n",
       "    </tr>\n",
       "    <tr>\n",
       "      <th>2</th>\n",
       "      <td>3</td>\n",
       "      <td>003 Diarrea y gastroenteritis de presunto orig...</td>\n",
       "    </tr>\n",
       "    <tr>\n",
       "      <th>3</th>\n",
       "      <td>4</td>\n",
       "      <td>004 Otras enfermedades infecciosas intestinales</td>\n",
       "    </tr>\n",
       "    <tr>\n",
       "      <th>4</th>\n",
       "      <td>5</td>\n",
       "      <td>005 Tuberculosis respiratoria</td>\n",
       "    </tr>\n",
       "  </tbody>\n",
       "</table>\n",
       "</div>"
      ],
      "text/plain": [
       "   CVE                                            DESCRIP\n",
       "0    1  001 Ciertas  enfermedades infecciosas  y paras...\n",
       "1    2                                         002 Cólera\n",
       "2    3  003 Diarrea y gastroenteritis de presunto orig...\n",
       "3    4    004 Otras enfermedades infecciosas intestinales\n",
       "4    5                      005 Tuberculosis respiratoria"
      ]
     },
     "execution_count": 12,
     "metadata": {},
     "output_type": "execute_result"
    }
   ],
   "source": [
    "mex_mortality_cause= pd.read_csv(mex_mortality_cause_db)\n",
    "\n",
    "mex_mortality_cause.drop(mex_mortality_cause.columns[[0]], axis=1, inplace=True)\n",
    "mex_mortality_cause.head()"
   ]
  },
  {
   "cell_type": "code",
   "execution_count": 13,
   "id": "5604df6f",
   "metadata": {},
   "outputs": [
    {
     "data": {
      "text/html": [
       "<div>\n",
       "<style scoped>\n",
       "    .dataframe tbody tr th:only-of-type {\n",
       "        vertical-align: middle;\n",
       "    }\n",
       "\n",
       "    .dataframe tbody tr th {\n",
       "        vertical-align: top;\n",
       "    }\n",
       "\n",
       "    .dataframe thead th {\n",
       "        text-align: right;\n",
       "    }\n",
       "</style>\n",
       "<table border=\"1\" class=\"dataframe\">\n",
       "  <thead>\n",
       "    <tr style=\"text-align: right;\">\n",
       "      <th></th>\n",
       "      <th>CVE</th>\n",
       "      <th>DESCRIP</th>\n",
       "    </tr>\n",
       "  </thead>\n",
       "  <tbody>\n",
       "    <tr>\n",
       "      <th>0</th>\n",
       "      <td>01</td>\n",
       "      <td>Enfermedades infecciosas intestinales</td>\n",
       "    </tr>\n",
       "    <tr>\n",
       "      <th>1</th>\n",
       "      <td>01A</td>\n",
       "      <td>Cólera</td>\n",
       "    </tr>\n",
       "    <tr>\n",
       "      <th>2</th>\n",
       "      <td>01B</td>\n",
       "      <td>Fiebre tifoidea</td>\n",
       "    </tr>\n",
       "    <tr>\n",
       "      <th>3</th>\n",
       "      <td>01C</td>\n",
       "      <td>Fiebre paratifoidea</td>\n",
       "    </tr>\n",
       "    <tr>\n",
       "      <th>4</th>\n",
       "      <td>01D</td>\n",
       "      <td>Shigelosis</td>\n",
       "    </tr>\n",
       "  </tbody>\n",
       "</table>\n",
       "</div>"
      ],
      "text/plain": [
       "   CVE                                DESCRIP\n",
       "0   01  Enfermedades infecciosas intestinales\n",
       "1  01A                                 Cólera\n",
       "2  01B                        Fiebre tifoidea\n",
       "3  01C                    Fiebre paratifoidea\n",
       "4  01D                             Shigelosis"
      ]
     },
     "execution_count": 13,
     "metadata": {},
     "output_type": "execute_result"
    }
   ],
   "source": [
    "category_detail= pd.read_csv(category_detail_db)\n",
    "\n",
    "category_detail.drop(category_detail.columns[[0]], axis=1, inplace=True)\n",
    "category_detail.head()"
   ]
  },
  {
   "cell_type": "code",
   "execution_count": 14,
   "id": "80273b3a",
   "metadata": {},
   "outputs": [
    {
     "data": {
      "text/html": [
       "<div>\n",
       "<style scoped>\n",
       "    .dataframe tbody tr th:only-of-type {\n",
       "        vertical-align: middle;\n",
       "    }\n",
       "\n",
       "    .dataframe tbody tr th {\n",
       "        vertical-align: top;\n",
       "    }\n",
       "\n",
       "    .dataframe thead th {\n",
       "        text-align: right;\n",
       "    }\n",
       "</style>\n",
       "<table border=\"1\" class=\"dataframe\">\n",
       "  <thead>\n",
       "    <tr style=\"text-align: right;\">\n",
       "      <th></th>\n",
       "      <th>CLAVE</th>\n",
       "      <th>DESCRIP</th>\n",
       "    </tr>\n",
       "  </thead>\n",
       "  <tbody>\n",
       "    <tr>\n",
       "      <th>0</th>\n",
       "      <td>1</td>\n",
       "      <td>Padre</td>\n",
       "    </tr>\n",
       "    <tr>\n",
       "      <th>1</th>\n",
       "      <td>2</td>\n",
       "      <td>Madre</td>\n",
       "    </tr>\n",
       "    <tr>\n",
       "      <th>2</th>\n",
       "      <td>3</td>\n",
       "      <td>Hermano</td>\n",
       "    </tr>\n",
       "    <tr>\n",
       "      <th>3</th>\n",
       "      <td>4</td>\n",
       "      <td>Hermana</td>\n",
       "    </tr>\n",
       "    <tr>\n",
       "      <th>4</th>\n",
       "      <td>5</td>\n",
       "      <td>Hijo</td>\n",
       "    </tr>\n",
       "  </tbody>\n",
       "</table>\n",
       "</div>"
      ],
      "text/plain": [
       "   CLAVE  DESCRIP\n",
       "0      1    Padre\n",
       "1      2    Madre\n",
       "2      3  Hermano\n",
       "3      4  Hermana\n",
       "4      5     Hijo"
      ]
     },
     "execution_count": 14,
     "metadata": {},
     "output_type": "execute_result"
    }
   ],
   "source": [
    "relationship= pd.read_csv(relationship_db)\n",
    "\n",
    "relationship.drop(relationship.columns[[0]], axis=1, inplace=True)\n",
    "relationship.head()"
   ]
  },
  {
   "cell_type": "code",
   "execution_count": 15,
   "id": "9066db77",
   "metadata": {},
   "outputs": [],
   "source": [
    "engine = create_engine('sqlite:///Mortality_causes.sqlite', echo=True)\n",
    "sqlite_connection = engine.connect()"
   ]
  },
  {
   "cell_type": "code",
   "execution_count": 17,
   "id": "99997744",
   "metadata": {},
   "outputs": [
    {
     "name": "stdout",
     "output_type": "stream",
     "text": [
      "2022-07-19 19:09:19,501 INFO sqlalchemy.engine.Engine PRAGMA main.table_info(\"main\")\n",
      "2022-07-19 19:09:19,502 INFO sqlalchemy.engine.Engine [raw sql] ()\n",
      "2022-07-19 19:09:19,504 INFO sqlalchemy.engine.Engine PRAGMA temp.table_info(\"main\")\n",
      "2022-07-19 19:09:19,505 INFO sqlalchemy.engine.Engine [raw sql] ()\n",
      "2022-07-19 19:09:19,512 INFO sqlalchemy.engine.Engine \n",
      "CREATE TABLE main (\n",
      "\t\"index\" BIGINT, \n",
      "\t\"ENT_REGIS\" BIGINT, \n",
      "\t\"MUN_REGIS\" BIGINT, \n",
      "\t\"ENT_RESID\" BIGINT, \n",
      "\t\"MUN_RESID\" BIGINT, \n",
      "\t\"TLOC_RESID\" BIGINT, \n",
      "\t\"LOC_RESID\" BIGINT, \n",
      "\t\"ENT_OCURR\" BIGINT, \n",
      "\t\"MUN_OCURR\" BIGINT, \n",
      "\t\"TLOC_OCURR\" BIGINT, \n",
      "\t\"LOC_OCURR\" BIGINT, \n",
      "\t\"CAUSA_DEF\" TEXT, \n",
      "\t\"LISTA_MEX\" TEXT, \n",
      "\t\"SEXO\" BIGINT, \n",
      "\t\"EDAD\" BIGINT, \n",
      "\t\"DIA_OCURR\" BIGINT, \n",
      "\t\"MES_OCURR\" BIGINT, \n",
      "\t\"ANIO_OCUR\" BIGINT, \n",
      "\t\"DIA_REGIS\" BIGINT, \n",
      "\t\"MES_REGIS\" BIGINT, \n",
      "\t\"ANIO_REGIS\" BIGINT, \n",
      "\t\"DIA_NACIM\" BIGINT, \n",
      "\t\"MES_NACIM\" BIGINT, \n",
      "\t\"ANIO_NACIM\" BIGINT, \n",
      "\t\"OCUPACION\" BIGINT, \n",
      "\t\"ESCOLARIDA\" BIGINT, \n",
      "\t\"EDO_CIVIL\" BIGINT, \n",
      "\t\"PRESUNTO\" BIGINT, \n",
      "\t\"OCURR_TRAB\" BIGINT, \n",
      "\t\"LUGAR_OCUR\" BIGINT, \n",
      "\t\"NECROPSIA\" BIGINT, \n",
      "\t\"ASIST_MEDI\" BIGINT, \n",
      "\t\"SITIO_OCUR\" BIGINT, \n",
      "\t\"COND_CERT\" BIGINT, \n",
      "\t\"NACIONALID\" BIGINT, \n",
      "\t\"DERECHOHAB\" BIGINT, \n",
      "\t\"EMBARAZO\" BIGINT, \n",
      "\t\"REL_EMBA\" BIGINT, \n",
      "\t\"HORAS\" BIGINT, \n",
      "\t\"MINUTOS\" BIGINT, \n",
      "\t\"CAPITULO\" BIGINT, \n",
      "\t\"GRUPO\" BIGINT, \n",
      "\t\"LISTA1\" BIGINT, \n",
      "\t\"GR_LISMEX\" TEXT, \n",
      "\t\"VIO_FAMI\" BIGINT, \n",
      "\t\"AREA_UR\" BIGINT, \n",
      "\t\"EDAD_AGRU\" BIGINT, \n",
      "\t\"COMPLICARO\" BIGINT, \n",
      "\t\"DIA_CERT\" BIGINT, \n",
      "\t\"MES_CERT\" BIGINT, \n",
      "\t\"ANIO_CERT\" BIGINT, \n",
      "\t\"MATERNAS\" TEXT, \n",
      "\t\"LENGUA\" BIGINT, \n",
      "\t\"COND_ACT\" BIGINT, \n",
      "\t\"PAR_AGRE\" BIGINT, \n",
      "\t\"ENT_OCULES\" BIGINT, \n",
      "\t\"MUN_OCULES\" BIGINT, \n",
      "\t\"LOC_OCULES\" BIGINT, \n",
      "\t\"RAZON_M\" FLOAT, \n",
      "\t\"DIS_RE_OAX\" BIGINT\n",
      ")\n",
      "\n",
      "\n",
      "2022-07-19 19:09:19,513 INFO sqlalchemy.engine.Engine [no key 0.00103s] ()\n",
      "2022-07-19 19:09:19,521 INFO sqlalchemy.engine.Engine COMMIT\n",
      "2022-07-19 19:09:19,522 INFO sqlalchemy.engine.Engine CREATE INDEX ix_main_index ON main (\"index\")\n",
      "2022-07-19 19:09:19,524 INFO sqlalchemy.engine.Engine [no key 0.00120s] ()\n",
      "2022-07-19 19:09:19,531 INFO sqlalchemy.engine.Engine COMMIT\n",
      "2022-07-19 19:10:22,302 INFO sqlalchemy.engine.Engine INSERT INTO main (\"index\", \"ENT_REGIS\", \"MUN_REGIS\", \"ENT_RESID\", \"MUN_RESID\", \"TLOC_RESID\", \"LOC_RESID\", \"ENT_OCURR\", \"MUN_OCURR\", \"TLOC_OCURR\", \"LOC_OCURR\", \"CAUSA_DEF\", \"LISTA_MEX\", \"SEXO\", \"EDAD\", \"DIA_OCURR\", \"MES_OCURR\", \"ANIO_OCUR\", \"DIA_REGIS\", \"MES_REGIS\", \"ANIO_REGIS\", \"DIA_NACIM\", \"MES_NACIM\", \"ANIO_NACIM\", \"OCUPACION\", \"ESCOLARIDA\", \"EDO_CIVIL\", \"PRESUNTO\", \"OCURR_TRAB\", \"LUGAR_OCUR\", \"NECROPSIA\", \"ASIST_MEDI\", \"SITIO_OCUR\", \"COND_CERT\", \"NACIONALID\", \"DERECHOHAB\", \"EMBARAZO\", \"REL_EMBA\", \"HORAS\", \"MINUTOS\", \"CAPITULO\", \"GRUPO\", \"LISTA1\", \"GR_LISMEX\", \"VIO_FAMI\", \"AREA_UR\", \"EDAD_AGRU\", \"COMPLICARO\", \"DIA_CERT\", \"MES_CERT\", \"ANIO_CERT\", \"MATERNAS\", \"LENGUA\", \"COND_ACT\", \"PAR_AGRE\", \"ENT_OCULES\", \"MUN_OCULES\", \"LOC_OCULES\", \"RAZON_M\", \"DIS_RE_OAX\") VALUES (?, ?, ?, ?, ?, ?, ?, ?, ?, ?, ?, ?, ?, ?, ?, ?, ?, ?, ?, ?, ?, ?, ?, ?, ?, ?, ?, ?, ?, ?, ?, ?, ?, ?, ?, ?, ?, ?, ?, ?, ?, ?, ?, ?, ?, ?, ?, ?, ?, ?, ?, ?, ?, ?, ?, ?, ?, ?, ?, ?)\n",
      "2022-07-19 19:10:22,311 INFO sqlalchemy.engine.Engine [generated in 48.04891s] ((0, 1, 1, 1, 1, 15, 1, 1, 1, 15, 1, 'J441', '33G', 2, 4074, 25, 11, 2016, 16, 1, 2020, 31, 3, 1942, 99, 3, 5, 8, 8, 88, 2, 1, 11, 3, 1, 3, 8, 8, 8, 15, 10, 5, 76, '33', 8, 1, 19, 8, 99, 1, 2020, None, 2, 9, 88, 88, 888, 8888, None, 999), (1, 1, 1, 1, 1, 15, 1, 1, 1, 15, 1, 'K566', '35I', 2, 4087, 7, 2, 2016, 23, 11, 2020, 19, 3, 1928, 99, 1, 3, 8, 8, 88, 9, 1, 1, 3, 1, 99, 8, 8, 17, 50, 11, 6, 81, '35', 8, 1, 22, 8, 99, 11, 2020, None, 9, 9, 88, 88, 888, 8888, None, 999), (2, 1, 1, 1, 1, 15, 1, 1, 1, 15, 1, 'I120', '27Z', 2, 4062, 18, 5, 2011, 17, 3, 2020, 17, 2, 1949, 11, 4, 5, 8, 8, 88, 2, 1, 3, 1, 1, 2, 8, 8, 14, 15, 9, 3, 66, '27', 8, 1, 17, 8, 99, 3, 2020, None, 2, 2, 88, 88, 888, 8888, None, 999), (3, 1, 1, 1, 1, 15, 1, 1, 1, 15, 1, 'J869', '33Z', 1, 4080, 27, 1, 2017, 3, 9, 2020, 9, 3, 1936, 99, 1, 3, 8, 8, 88, 9, 9, 11, 3, 1, 7, 8, 8, 7, 30, 10, 8, 77, '33', 8, 1, 21, 8, 99, 9, 2020, None, 9, 9, 88, 88, 888, 8888, None, 999), (4, 1, 6, 1, 9, 4, 1, 1, 9, 4, 1, 'I709', '31A', 1, 4078, 14, 2, 2018, 27, 10, 2020, 21, 10, 1939, 6, 4, 5, 8, 8, 88, 9, 1, 11, 3, 1, 7, 8, 8, 16, 20, 9, 8, 70, '31', 8, 1, 20, 8, 99, 10, 2020, None, 2, 1, 88, 88, 888, 8888, None, 999), (5, 1, 1, 1, 1, 15, 1, 1, 1, 15, 1, 'U071', '06T', 1, 4058, 26, 10, 2020, 29, 10, 2020, 12, 4, 1962, 4, 4, 5, 8, 8, 88, 2, 1, 1, 3, 1, 1, 8, 8, 10, 30, 22, 1, 903, '06', 8, 1, 16, 8, 26, 10, 2020, None, 2, 1, 88, 88, 888, 8888, None, 999), (6, 1, 1, 1, 1, 15, 1, 1, 1, 15, 1, 'E149', '20D', 2, 4064, 18, 9, 2014, 99, 10, 2020, 6, 7, 1950, 11, 4, 5, 8, 8, 88, 2, 1, 3, 3, 1, 2, 8, 8, 6, 40, 4, 2, 52, '20', 8, 1, 17, 8, 99, 10, 2020, None, 2, 2, 88, 88, 888, 8888, None, 999), (7, 1, 1, 1, 1, 15, 1, 1, 1, 15, 1, 'E117', '20D', 2, 4075, 12, 2, 2015, 9, 7, 2020, 16, 3, 1939, 11, 3, 5, 8, 8, 88, 9, 1, 3, 1, 1, 2, 8, 8, 20, 10, 4, 2, 52, '20', 8, 1, 20, 8, 99, 7, 2020, None, 9, 2, 88, 88, 888, 8888, None, 999)  ... displaying 10 of 1086743 total bound parameter sets ...  (1086741, 32, 24, 32, 24, 8, 1, 32, 17, 13, 1, 'U071', '06T', 2, 4081, 18, 12, 2020, 18, 12, 2020, 11, 6, 1939, 11, 3, 1, 8, 8, 88, 2, 1, 1, 3, 1, 1, 8, 8, 9, 6, 22, 1, 903, '06', 8, 1, 21, 8, 18, 12, 2020, None, 2, 2, 88, 88, 888, 8888, None, 999), (1086742, 32, 56, 32, 56, 13, 1, 32, 56, 13, 1, 'U071', '06T', 2, 4067, 23, 8, 2020, 23, 8, 2020, 15, 1, 1953, 99, 99, 3, 8, 8, 88, 9, 1, 3, 1, 1, 99, 8, 8, 7, 0, 22, 1, 903, '06', 8, 1, 18, 8, 23, 8, 2020, None, 9, 9, 88, 88, 888, 8888, None, 999))\n",
      "2022-07-19 19:10:32,246 INFO sqlalchemy.engine.Engine COMMIT\n"
     ]
    },
    {
     "data": {
      "text/plain": [
       "1086743"
      ]
     },
     "execution_count": 17,
     "metadata": {},
     "output_type": "execute_result"
    }
   ],
   "source": [
    "sqlite_table = \"main\"\n",
    "main.to_sql(sqlite_table, sqlite_connection, if_exists='fail')"
   ]
  },
  {
   "cell_type": "code",
   "execution_count": 18,
   "id": "c948018d",
   "metadata": {},
   "outputs": [
    {
     "name": "stdout",
     "output_type": "stream",
     "text": [
      "2022-07-19 19:10:35,266 INFO sqlalchemy.engine.Engine PRAGMA main.table_info(\"broad_category\")\n",
      "2022-07-19 19:10:35,267 INFO sqlalchemy.engine.Engine [raw sql] ()\n",
      "2022-07-19 19:10:35,269 INFO sqlalchemy.engine.Engine PRAGMA temp.table_info(\"broad_category\")\n",
      "2022-07-19 19:10:35,270 INFO sqlalchemy.engine.Engine [raw sql] ()\n",
      "2022-07-19 19:10:35,273 INFO sqlalchemy.engine.Engine \n",
      "CREATE TABLE broad_category (\n",
      "\t\"index\" BIGINT, \n",
      "\t\"CONSE\" BIGINT, \n",
      "\t\"CAP\" BIGINT, \n",
      "\t\"GPO\" FLOAT, \n",
      "\t\"DESCRIP\" TEXT\n",
      ")\n",
      "\n",
      "\n",
      "2022-07-19 19:10:35,274 INFO sqlalchemy.engine.Engine [no key 0.00088s] ()\n",
      "2022-07-19 19:10:35,281 INFO sqlalchemy.engine.Engine COMMIT\n",
      "2022-07-19 19:10:35,282 INFO sqlalchemy.engine.Engine CREATE INDEX ix_broad_category_index ON broad_category (\"index\")\n",
      "2022-07-19 19:10:35,283 INFO sqlalchemy.engine.Engine [no key 0.00095s] ()\n",
      "2022-07-19 19:10:35,291 INFO sqlalchemy.engine.Engine COMMIT\n",
      "2022-07-19 19:10:35,297 INFO sqlalchemy.engine.Engine INSERT INTO broad_category (\"index\", \"CONSE\", \"CAP\", \"GPO\", \"DESCRIP\") VALUES (?, ?, ?, ?, ?)\n",
      "2022-07-19 19:10:35,298 INFO sqlalchemy.engine.Engine [generated in 0.00236s] ((0, 1, 1, None, 'Ciertas enfermedades infecciosas y parasitarias'), (1, 2, 1, 1.0, 'Enfermedades infecciosas intestinales (A00-A09)'), (2, 3, 1, 2.0, 'Tuberculosis  (A15-A19)'), (3, 4, 1, 3.0, 'Ciertas zoonosis bacterianas (A20-A28)'), (4, 5, 1, 4.0, 'Otras enfermedades bacterianas (A30-A49)'), (5, 6, 1, 5.0, 'Infecciones con modo de transmisión predominantemente sexual (A50-A64)'), (6, 7, 1, 6.0, 'Otras enfermedades debidas a espiroquetas (A65-A69)'), (7, 8, 1, 7.0, 'Otras enfermedades causadas por clamidias (A70-A74)')  ... displaying 10 of 250 total bound parameter sets ...  (248, 249, 20, 35.0, 'Factores suplementarios relacionados con causas de morbilidad y de mortalidad clasificadas  en otra parte (Y90-Y98)'), (249, 250, 22, 1.0, 'Asignación provisionaria de nuevas afecciones de etiología incierta o de uso emergente (U00-U49)'))\n",
      "2022-07-19 19:10:35,302 INFO sqlalchemy.engine.Engine COMMIT\n"
     ]
    },
    {
     "data": {
      "text/plain": [
       "250"
      ]
     },
     "execution_count": 18,
     "metadata": {},
     "output_type": "execute_result"
    }
   ],
   "source": [
    "sqlite_table = \"broad_category\"\n",
    "broad_category.to_sql(sqlite_table, sqlite_connection, if_exists='fail')"
   ]
  },
  {
   "cell_type": "code",
   "execution_count": 19,
   "id": "d9132e22",
   "metadata": {},
   "outputs": [
    {
     "name": "stdout",
     "output_type": "stream",
     "text": [
      "2022-07-19 19:10:35,411 INFO sqlalchemy.engine.Engine PRAGMA main.table_info(\"mortality_category\")\n",
      "2022-07-19 19:10:35,414 INFO sqlalchemy.engine.Engine [raw sql] ()\n",
      "2022-07-19 19:10:35,415 INFO sqlalchemy.engine.Engine PRAGMA temp.table_info(\"mortality_category\")\n",
      "2022-07-19 19:10:35,417 INFO sqlalchemy.engine.Engine [raw sql] ()\n",
      "2022-07-19 19:10:35,420 INFO sqlalchemy.engine.Engine \n",
      "CREATE TABLE mortality_category (\n",
      "\t\"index\" BIGINT, \n",
      "\t\"CVE\" TEXT, \n",
      "\t\"DESCRIP\" TEXT\n",
      ")\n",
      "\n",
      "\n",
      "2022-07-19 19:10:35,422 INFO sqlalchemy.engine.Engine [no key 0.00143s] ()\n",
      "2022-07-19 19:10:35,438 INFO sqlalchemy.engine.Engine COMMIT\n",
      "2022-07-19 19:10:35,440 INFO sqlalchemy.engine.Engine CREATE INDEX ix_mortality_category_index ON mortality_category (\"index\")\n",
      "2022-07-19 19:10:35,441 INFO sqlalchemy.engine.Engine [no key 0.00129s] ()\n",
      "2022-07-19 19:10:35,449 INFO sqlalchemy.engine.Engine COMMIT\n",
      "2022-07-19 19:10:35,476 INFO sqlalchemy.engine.Engine INSERT INTO mortality_category (\"index\", \"CVE\", \"DESCRIP\") VALUES (?, ?, ?)\n",
      "2022-07-19 19:10:35,477 INFO sqlalchemy.engine.Engine [generated in 0.02062s] ((0, 'A010', 'Fiebre tifoidea'), (1, 'A012', 'Fiebre paratifoidea B'), (2, 'A020', 'Enteritis debida a Salmonella'), (3, 'A021', 'Sepsis debida a Salmonella'), (4, 'A029', 'Infección debida a Salmonella, no especificada'), (5, 'A040', 'Infección debida a Escherichia coli enteropatógena'), (6, 'A047', 'Enterocolitis debida a Clostridium difficile'), (7, 'A049', 'Infección intestinal bacteriana, no especificada')  ... displaying 10 of 3966 total bound parameter sets ...  (3964, 'Y883', 'Secuelas de procedimientos médicos y quirúrgicos como la causa de reacción anormal del paciente o de complicación posterior, sin mención de incidente en el momento de efectuar el procedimiento'), (3965, 'Y899', 'Secuelas de causa externa no especificada'))\n",
      "2022-07-19 19:10:35,490 INFO sqlalchemy.engine.Engine COMMIT\n"
     ]
    },
    {
     "data": {
      "text/plain": [
       "3966"
      ]
     },
     "execution_count": 19,
     "metadata": {},
     "output_type": "execute_result"
    }
   ],
   "source": [
    "sqlite_table = \"mortality_category\"\n",
    "mortality_cause.to_sql(sqlite_table, sqlite_connection, if_exists='fail')"
   ]
  },
  {
   "cell_type": "code",
   "execution_count": 20,
   "id": "8d4deddd",
   "metadata": {},
   "outputs": [
    {
     "name": "stdout",
     "output_type": "stream",
     "text": [
      "2022-07-19 19:10:35,609 INFO sqlalchemy.engine.Engine PRAGMA main.table_info(\"locality\")\n",
      "2022-07-19 19:10:35,611 INFO sqlalchemy.engine.Engine [raw sql] ()\n",
      "2022-07-19 19:10:35,613 INFO sqlalchemy.engine.Engine PRAGMA temp.table_info(\"locality\")\n",
      "2022-07-19 19:10:35,613 INFO sqlalchemy.engine.Engine [raw sql] ()\n",
      "2022-07-19 19:10:35,617 INFO sqlalchemy.engine.Engine \n",
      "CREATE TABLE locality (\n",
      "\t\"index\" BIGINT, \n",
      "\t\"CVE_ENT\" BIGINT, \n",
      "\t\"CVE_MUN\" BIGINT, \n",
      "\t\"CVE_LOC\" BIGINT, \n",
      "\t\"NOM_LOC\" TEXT\n",
      ")\n",
      "\n",
      "\n",
      "2022-07-19 19:10:35,618 INFO sqlalchemy.engine.Engine [no key 0.00176s] ()\n",
      "2022-07-19 19:10:35,626 INFO sqlalchemy.engine.Engine COMMIT\n",
      "2022-07-19 19:10:35,627 INFO sqlalchemy.engine.Engine CREATE INDEX ix_locality_index ON locality (\"index\")\n",
      "2022-07-19 19:10:35,628 INFO sqlalchemy.engine.Engine [no key 0.00112s] ()\n",
      "2022-07-19 19:10:35,636 INFO sqlalchemy.engine.Engine COMMIT\n",
      "2022-07-19 19:10:35,788 INFO sqlalchemy.engine.Engine INSERT INTO locality (\"index\", \"CVE_ENT\", \"CVE_MUN\", \"CVE_LOC\", \"NOM_LOC\") VALUES (?, ?, ?, ?, ?)\n",
      "2022-07-19 19:10:35,790 INFO sqlalchemy.engine.Engine [generated in 0.11817s] ((0, 1, 0, 0, 'Aguascalientes'), (1, 1, 1, 0, 'Aguascalientes'), (2, 1, 1, 1, 'Aguascalientes'), (3, 1, 1, 106, 'Arellano'), (4, 1, 1, 120, 'Buenavista de Peñuelas'), (5, 1, 1, 126, 'Cañada Honda [Estación]'), (6, 1, 1, 127, 'Los Caños'), (7, 1, 1, 138, 'Centro de Arriba (El Taray)')  ... displaying 10 of 30644 total bound parameter sets ...  (30642, 99, 999, 0, 'Municipio no especificado'), (30643, 99, 999, 9999, 'Localidad no especificada'))\n",
      "2022-07-19 19:10:35,890 INFO sqlalchemy.engine.Engine COMMIT\n"
     ]
    },
    {
     "data": {
      "text/plain": [
       "30644"
      ]
     },
     "execution_count": 20,
     "metadata": {},
     "output_type": "execute_result"
    }
   ],
   "source": [
    "sqlite_table = \"locality\"\n",
    "locality.to_sql(sqlite_table, sqlite_connection, if_exists='fail')"
   ]
  },
  {
   "cell_type": "code",
   "execution_count": 21,
   "id": "49428d04",
   "metadata": {},
   "outputs": [
    {
     "name": "stdout",
     "output_type": "stream",
     "text": [
      "2022-07-19 19:10:36,004 INFO sqlalchemy.engine.Engine PRAGMA main.table_info(\"mex_causes\")\n",
      "2022-07-19 19:10:36,005 INFO sqlalchemy.engine.Engine [raw sql] ()\n",
      "2022-07-19 19:10:36,007 INFO sqlalchemy.engine.Engine PRAGMA temp.table_info(\"mex_causes\")\n",
      "2022-07-19 19:10:36,009 INFO sqlalchemy.engine.Engine [raw sql] ()\n",
      "2022-07-19 19:10:36,013 INFO sqlalchemy.engine.Engine \n",
      "CREATE TABLE mex_causes (\n",
      "\t\"index\" BIGINT, \n",
      "\t\"CVE\" BIGINT, \n",
      "\t\"DESCRIP\" TEXT\n",
      ")\n",
      "\n",
      "\n",
      "2022-07-19 19:10:36,014 INFO sqlalchemy.engine.Engine [no key 0.00098s] ()\n",
      "2022-07-19 19:10:36,021 INFO sqlalchemy.engine.Engine COMMIT\n",
      "2022-07-19 19:10:36,022 INFO sqlalchemy.engine.Engine CREATE INDEX ix_mex_causes_index ON mex_causes (\"index\")\n",
      "2022-07-19 19:10:36,023 INFO sqlalchemy.engine.Engine [no key 0.00117s] ()\n",
      "2022-07-19 19:10:36,030 INFO sqlalchemy.engine.Engine COMMIT\n",
      "2022-07-19 19:10:36,035 INFO sqlalchemy.engine.Engine INSERT INTO mex_causes (\"index\", \"CVE\", \"DESCRIP\") VALUES (?, ?, ?)\n",
      "2022-07-19 19:10:36,036 INFO sqlalchemy.engine.Engine [generated in 0.00204s] ((0, 1, '001 Ciertas  enfermedades infecciosas  y parasitarias'), (1, 2, '002 Cólera'), (2, 3, '003 Diarrea y gastroenteritis de presunto origen infeccioso'), (3, 4, '004 Otras enfermedades infecciosas intestinales'), (4, 5, '005 Tuberculosis respiratoria'), (5, 6, '006 Otras tuberculosis'), (6, 7, '007 Peste'), (7, 8, '008 Tétanos')  ... displaying 10 of 104 total bound parameter sets ...  (102, 103, '103 Todas las  demás causas externas'), (103, 902, '902 Enfermedad por el virus del Zika, sin especificación'))\n",
      "2022-07-19 19:10:36,039 INFO sqlalchemy.engine.Engine COMMIT\n"
     ]
    },
    {
     "data": {
      "text/plain": [
       "104"
      ]
     },
     "execution_count": 21,
     "metadata": {},
     "output_type": "execute_result"
    }
   ],
   "source": [
    "sqlite_table = \"mex_causes\"\n",
    "mex_mortality_cause.to_sql(sqlite_table, sqlite_connection, if_exists='fail')"
   ]
  },
  {
   "cell_type": "code",
   "execution_count": 22,
   "id": "79e2ce76",
   "metadata": {},
   "outputs": [
    {
     "name": "stdout",
     "output_type": "stream",
     "text": [
      "2022-07-19 19:10:36,147 INFO sqlalchemy.engine.Engine PRAGMA main.table_info(\"mex_category\")\n",
      "2022-07-19 19:10:36,148 INFO sqlalchemy.engine.Engine [raw sql] ()\n",
      "2022-07-19 19:10:36,150 INFO sqlalchemy.engine.Engine PRAGMA temp.table_info(\"mex_category\")\n",
      "2022-07-19 19:10:36,151 INFO sqlalchemy.engine.Engine [raw sql] ()\n",
      "2022-07-19 19:10:36,154 INFO sqlalchemy.engine.Engine \n",
      "CREATE TABLE mex_category (\n",
      "\t\"index\" BIGINT, \n",
      "\t\"VALOR\" TEXT, \n",
      "\t\"DESCRIPCIO\" TEXT\n",
      ")\n",
      "\n",
      "\n",
      "2022-07-19 19:10:36,155 INFO sqlalchemy.engine.Engine [no key 0.00115s] ()\n",
      "2022-07-19 19:10:36,161 INFO sqlalchemy.engine.Engine COMMIT\n",
      "2022-07-19 19:10:36,163 INFO sqlalchemy.engine.Engine CREATE INDEX ix_mex_category_index ON mex_category (\"index\")\n",
      "2022-07-19 19:10:36,164 INFO sqlalchemy.engine.Engine [no key 0.00089s] ()\n",
      "2022-07-19 19:10:36,170 INFO sqlalchemy.engine.Engine COMMIT\n",
      "2022-07-19 19:10:36,173 INFO sqlalchemy.engine.Engine INSERT INTO mex_category (\"index\", \"VALOR\", \"DESCRIPCIO\") VALUES (?, ?, ?)\n",
      "2022-07-19 19:10:36,174 INFO sqlalchemy.engine.Engine [generated in 0.00120s] ((0, '01', 'ENFERMEDADES INFECCIOSAS INTESTINALES'), (1, '02', 'TUBERCULOSIS'), (2, '03', 'OTRAS ENFERMEDADES BACTERIANAS'), (3, '04', 'INFECCIONES CON MODO DE TRANSMISION PREDOMINANTEMENTE SEXUAL'), (4, '05', 'OTRAS ENFERMEDADES INFECCIOSAS Y PARASITARIAS Y EFECTOS TARDIOS DE LAS ENFERMEDADES INFECCIOSAS Y PARASITARIAS'), (5, '06', 'ENFERMEDADES VIRICAS'), (6, '07', 'RICKETTSIOSIS Y OTRAS ENFERMEDADES DEBIDAS A PROTOZOARIOS'), (7, '08', 'TUMORES MALIGNOS DEL LABIO, DE LA CAVIDAD BUCAL Y DE LA FARINGE')  ... displaying 10 of 59 total bound parameter sets ...  (57, 'E58', 'CONTRATIEMPOS DURANTE LA ATENCION MEDICA, REACCIONES ANORMALES Y COMPLICACIONES ULTERIORES'), (58, 'E59', 'SECUELAS DE LESIONES AUTOINFLIGIDAS, AGRESIONES Y EVENTOS DE INTENCION NO DETERMINADA, DE ATENCION MEDICA Y QUIRURGICA Y DE'))\n",
      "2022-07-19 19:10:36,177 INFO sqlalchemy.engine.Engine COMMIT\n"
     ]
    },
    {
     "data": {
      "text/plain": [
       "59"
      ]
     },
     "execution_count": 22,
     "metadata": {},
     "output_type": "execute_result"
    }
   ],
   "source": [
    "sqlite_table = \"mex_category\"\n",
    "mex_broad_category.to_sql(sqlite_table, sqlite_connection, if_exists='fail')"
   ]
  },
  {
   "cell_type": "code",
   "execution_count": 24,
   "id": "79ef1dd7",
   "metadata": {},
   "outputs": [
    {
     "name": "stdout",
     "output_type": "stream",
     "text": [
      "2022-07-19 19:11:09,167 INFO sqlalchemy.engine.Engine PRAGMA main.table_info(\"category_detail\")\n",
      "2022-07-19 19:11:09,168 INFO sqlalchemy.engine.Engine [raw sql] ()\n",
      "2022-07-19 19:11:09,170 INFO sqlalchemy.engine.Engine PRAGMA temp.table_info(\"category_detail\")\n",
      "2022-07-19 19:11:09,171 INFO sqlalchemy.engine.Engine [raw sql] ()\n",
      "2022-07-19 19:11:09,174 INFO sqlalchemy.engine.Engine \n",
      "CREATE TABLE category_detail (\n",
      "\t\"index\" BIGINT, \n",
      "\t\"CVE\" TEXT, \n",
      "\t\"DESCRIP\" TEXT\n",
      ")\n",
      "\n",
      "\n",
      "2022-07-19 19:11:09,174 INFO sqlalchemy.engine.Engine [no key 0.00084s] ()\n",
      "2022-07-19 19:11:09,184 INFO sqlalchemy.engine.Engine COMMIT\n",
      "2022-07-19 19:11:09,186 INFO sqlalchemy.engine.Engine CREATE INDEX ix_category_detail_index ON category_detail (\"index\")\n",
      "2022-07-19 19:11:09,188 INFO sqlalchemy.engine.Engine [no key 0.00163s] ()\n",
      "2022-07-19 19:11:09,194 INFO sqlalchemy.engine.Engine COMMIT\n",
      "2022-07-19 19:11:09,201 INFO sqlalchemy.engine.Engine INSERT INTO category_detail (\"index\", \"CVE\", \"DESCRIP\") VALUES (?, ?, ?)\n",
      "2022-07-19 19:11:09,202 INFO sqlalchemy.engine.Engine [generated in 0.00290s] ((0, '01', 'Enfermedades infecciosas intestinales'), (1, '01A', 'Cólera'), (2, '01B', 'Fiebre tifoidea'), (3, '01C', 'Fiebre paratifoidea'), (4, '01D', 'Shigelosis'), (5, '01E', 'Intoxicación alimentaria'), (6, '01F', 'Amebiasis'), (7, '01G', 'Infecciones intestinales debidas a otros organismos especificados')  ... displaying 10 of 418 total bound parameter sets ...  (416, '58', 'Contratiempos durante la atención médica, reacciones anormales y complicaciones ulteriores'), (417, '59', 'Secuelas de lesiones autoinfligidas, agresiones y eventos de intención no determinada, de atención médica y quirúrgica y de otras causas externas'))\n",
      "2022-07-19 19:11:09,207 INFO sqlalchemy.engine.Engine COMMIT\n"
     ]
    },
    {
     "data": {
      "text/plain": [
       "418"
      ]
     },
     "execution_count": 24,
     "metadata": {},
     "output_type": "execute_result"
    }
   ],
   "source": [
    "sqlite_table = \"category_detail\"\n",
    "category_detail.to_sql(sqlite_table, sqlite_connection, if_exists='fail')"
   ]
  },
  {
   "cell_type": "code",
   "execution_count": 25,
   "id": "41294037",
   "metadata": {},
   "outputs": [
    {
     "name": "stdout",
     "output_type": "stream",
     "text": [
      "2022-07-19 19:11:17,582 INFO sqlalchemy.engine.Engine PRAGMA main.table_info(\"relationship\")\n",
      "2022-07-19 19:11:17,584 INFO sqlalchemy.engine.Engine [raw sql] ()\n",
      "2022-07-19 19:11:17,586 INFO sqlalchemy.engine.Engine PRAGMA temp.table_info(\"relationship\")\n",
      "2022-07-19 19:11:17,587 INFO sqlalchemy.engine.Engine [raw sql] ()\n",
      "2022-07-19 19:11:17,590 INFO sqlalchemy.engine.Engine \n",
      "CREATE TABLE relationship (\n",
      "\t\"index\" BIGINT, \n",
      "\t\"CLAVE\" BIGINT, \n",
      "\t\"DESCRIP\" TEXT\n",
      ")\n",
      "\n",
      "\n",
      "2022-07-19 19:11:17,592 INFO sqlalchemy.engine.Engine [no key 0.00194s] ()\n",
      "2022-07-19 19:11:17,600 INFO sqlalchemy.engine.Engine COMMIT\n",
      "2022-07-19 19:11:17,602 INFO sqlalchemy.engine.Engine CREATE INDEX ix_relationship_index ON relationship (\"index\")\n",
      "2022-07-19 19:11:17,603 INFO sqlalchemy.engine.Engine [no key 0.00112s] ()\n",
      "2022-07-19 19:11:17,610 INFO sqlalchemy.engine.Engine COMMIT\n",
      "2022-07-19 19:11:17,614 INFO sqlalchemy.engine.Engine INSERT INTO relationship (\"index\", \"CLAVE\", \"DESCRIP\") VALUES (?, ?, ?)\n",
      "2022-07-19 19:11:17,616 INFO sqlalchemy.engine.Engine [generated in 0.00167s] ((0, 1, 'Padre'), (1, 2, 'Madre'), (2, 3, 'Hermano'), (3, 4, 'Hermana'), (4, 5, 'Hijo'), (5, 6, 'Hija'), (6, 7, 'Abuelo'), (7, 8, 'Abuela')  ... displaying 10 of 74 total bound parameter sets ...  (72, 88, 'No aplica'), (73, 99, 'No especificado'))\n",
      "2022-07-19 19:11:17,619 INFO sqlalchemy.engine.Engine COMMIT\n"
     ]
    },
    {
     "data": {
      "text/plain": [
       "74"
      ]
     },
     "execution_count": 25,
     "metadata": {},
     "output_type": "execute_result"
    }
   ],
   "source": [
    "sqlite_table = \"relationship\"\n",
    "relationship.to_sql(sqlite_table, sqlite_connection, if_exists='fail')"
   ]
  },
  {
   "cell_type": "code",
   "execution_count": 26,
   "id": "21d143cb",
   "metadata": {},
   "outputs": [],
   "source": [
    "import sqlite3\n",
    "\n",
    "# Create a SQL connection to our SQLite database\n",
    "con = sqlite3.connect(\"./Mortality_causes.sqlite\")\n",
    "\n",
    "cur = con.cursor()"
   ]
  },
  {
   "cell_type": "code",
   "execution_count": 33,
   "id": "d0bbd403",
   "metadata": {},
   "outputs": [
    {
     "name": "stdout",
     "output_type": "stream",
     "text": [
      "2022-07-19 19:28:22,933 INFO sqlalchemy.engine.Engine SELECT name FROM sqlite_master WHERE type='table' ORDER BY name\n",
      "2022-07-19 19:28:22,934 INFO sqlalchemy.engine.Engine [raw sql] ()\n"
     ]
    },
    {
     "data": {
      "text/plain": [
       "['broad_category',\n",
       " 'category_detail',\n",
       " 'locality',\n",
       " 'main',\n",
       " 'mex_category',\n",
       " 'mex_causes',\n",
       " 'mortality_category',\n",
       " 'relationship']"
      ]
     },
     "execution_count": 33,
     "metadata": {},
     "output_type": "execute_result"
    }
   ],
   "source": [
    "inspector = inspect(engine)\n",
    "inspector.get_table_names()"
   ]
  },
  {
   "cell_type": "code",
   "execution_count": 34,
   "id": "260e8dd6",
   "metadata": {},
   "outputs": [
    {
     "name": "stdout",
     "output_type": "stream",
     "text": [
      "2022-07-19 19:29:33,310 INFO sqlalchemy.engine.Engine PRAGMA main.table_xinfo(\"broad_category\")\n",
      "2022-07-19 19:29:33,311 INFO sqlalchemy.engine.Engine [raw sql] ()\n",
      "index BIGINT\n",
      "CONSE BIGINT\n",
      "CAP BIGINT\n",
      "GPO FLOAT\n",
      "DESCRIP TEXT\n"
     ]
    }
   ],
   "source": [
    "columns = inspector.get_columns('broad_category')\n",
    "for column in columns:\n",
    "    print(column[\"name\"], column[\"type\"])"
   ]
  },
  {
   "cell_type": "code",
   "execution_count": 35,
   "id": "74d368dd",
   "metadata": {},
   "outputs": [
    {
     "name": "stdout",
     "output_type": "stream",
     "text": [
      "2022-07-19 19:29:53,773 INFO sqlalchemy.engine.Engine PRAGMA main.table_xinfo(\"main\")\n",
      "2022-07-19 19:29:53,774 INFO sqlalchemy.engine.Engine [raw sql] ()\n",
      "index BIGINT\n",
      "ENT_REGIS BIGINT\n",
      "MUN_REGIS BIGINT\n",
      "ENT_RESID BIGINT\n",
      "MUN_RESID BIGINT\n",
      "TLOC_RESID BIGINT\n",
      "LOC_RESID BIGINT\n",
      "ENT_OCURR BIGINT\n",
      "MUN_OCURR BIGINT\n",
      "TLOC_OCURR BIGINT\n",
      "LOC_OCURR BIGINT\n",
      "CAUSA_DEF TEXT\n",
      "LISTA_MEX TEXT\n",
      "SEXO BIGINT\n",
      "EDAD BIGINT\n",
      "DIA_OCURR BIGINT\n",
      "MES_OCURR BIGINT\n",
      "ANIO_OCUR BIGINT\n",
      "DIA_REGIS BIGINT\n",
      "MES_REGIS BIGINT\n",
      "ANIO_REGIS BIGINT\n",
      "DIA_NACIM BIGINT\n",
      "MES_NACIM BIGINT\n",
      "ANIO_NACIM BIGINT\n",
      "OCUPACION BIGINT\n",
      "ESCOLARIDA BIGINT\n",
      "EDO_CIVIL BIGINT\n",
      "PRESUNTO BIGINT\n",
      "OCURR_TRAB BIGINT\n",
      "LUGAR_OCUR BIGINT\n",
      "NECROPSIA BIGINT\n",
      "ASIST_MEDI BIGINT\n",
      "SITIO_OCUR BIGINT\n",
      "COND_CERT BIGINT\n",
      "NACIONALID BIGINT\n",
      "DERECHOHAB BIGINT\n",
      "EMBARAZO BIGINT\n",
      "REL_EMBA BIGINT\n",
      "HORAS BIGINT\n",
      "MINUTOS BIGINT\n",
      "CAPITULO BIGINT\n",
      "GRUPO BIGINT\n",
      "LISTA1 BIGINT\n",
      "GR_LISMEX TEXT\n",
      "VIO_FAMI BIGINT\n",
      "AREA_UR BIGINT\n",
      "EDAD_AGRU BIGINT\n",
      "COMPLICARO BIGINT\n",
      "DIA_CERT BIGINT\n",
      "MES_CERT BIGINT\n",
      "ANIO_CERT BIGINT\n",
      "MATERNAS TEXT\n",
      "LENGUA BIGINT\n",
      "COND_ACT BIGINT\n",
      "PAR_AGRE BIGINT\n",
      "ENT_OCULES BIGINT\n",
      "MUN_OCULES BIGINT\n",
      "LOC_OCULES BIGINT\n",
      "RAZON_M FLOAT\n",
      "DIS_RE_OAX BIGINT\n"
     ]
    }
   ],
   "source": [
    "columns = inspector.get_columns('main')\n",
    "for column in columns:\n",
    "    print(column[\"name\"], column[\"type\"])"
   ]
  }
 ],
 "metadata": {
  "interpreter": {
   "hash": "f67272f8226a62d5ad5ad600b8605cb72ba6066dcf629ea2a488df2afb972428"
  },
  "kernelspec": {
   "display_name": "Python 3.10.4 64-bit (windows store)",
   "language": "python",
   "name": "python3"
  },
  "language_info": {
   "codemirror_mode": {
    "name": "ipython",
    "version": 3
   },
   "file_extension": ".py",
   "mimetype": "text/x-python",
   "name": "python",
   "nbconvert_exporter": "python",
   "pygments_lexer": "ipython3",
   "version": "3.10.5"
  }
 },
 "nbformat": 4,
 "nbformat_minor": 5
}
